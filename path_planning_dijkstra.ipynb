{
 "cells": [
  {
   "cell_type": "markdown",
   "metadata": {},
   "source": [
    "# Dijkstra's Algorithm for Robotic Path Planning\n",
    "\n",
    "Dijkstra's Algorithm is a graph-based pathfinding algorithm that **guarantees** the \"shortest\" path in a weighted graph. In the context of robotics, it is particularly useful for path planning in known environments. Possible applications are:\n",
    "\n",
    "1. Warehouse navigation: Robots use grid-based pathfinding to navigate around shelves.\n",
    "2. Obstacle avoidance: Works well in structured environments with known obstacles.\n",
    "3. Autonomous vehicles: Grid-based path planning can be used for local navigation.\n",
    "\n",
    "This notebook explains Dijkstra's Algorithm in the context of robotic path planning. We'll visualize how the algorithm works and provide a Python implementation for an example grid-based graph."
   ]
  },
  {
   "cell_type": "markdown",
   "metadata": {},
   "source": [
    "The following concepts are important for the understanding the explanation that follows:\n",
    "1. **Graph Representation**: The environment is represented as a graph where each node corresponds to a position (or grid cell), and edges represent possible movements.\n",
    "2. **Weighted Edges**: The weights represent the cost of moving from one node to another, such as distance, difficulty or energy required.\n",
    "3. **Optimal Path**: The algorithm finds the least-cost path from a start node to a goal node. Such a path is the shortest if the distances between nodes represent the cost for moving between them. However, if the costs include other aspects (like required energy, risk of collision etc.), the optimal path will not necessarily be the shortest one."
   ]
  },
  {
   "cell_type": "markdown",
   "metadata": {},
   "source": [
    "In this notebook, we will:\n",
    "1. Define a grid environment for the robot.\n",
    "2. Explain Dijkstra's Algorithm.\n",
    "3. Implement the algorithm in Python.\n",
    "4. Visualize the results and analyze its performance."
   ]
  },
  {
   "cell_type": "markdown",
   "metadata": {},
   "source": [
    "First, let's import the required libraries."
   ]
  },
  {
   "cell_type": "code",
   "execution_count": 1,
   "metadata": {},
   "outputs": [],
   "source": [
    "import heapq\n",
    "import matplotlib.pyplot as plt\n",
    "import numpy as np"
   ]
  },
  {
   "cell_type": "markdown",
   "metadata": {},
   "source": [
    "### 1. Define the Environment\n",
    "We represent the map of the world as a 10 x 10 grid. It is a 2D array where:\n",
    "- `0` represents free space for the robot to navigate.\n",
    "- `1` represents obstacles that block the robot's movement."
   ]
  },
  {
   "cell_type": "code",
   "execution_count": 2,
   "metadata": {},
   "outputs": [],
   "source": [
    "def create_grid():\n",
    "    grid = np.array([\n",
    "        [0, 0, 0, 0, 0, 0, 0, 1, 0, 0],\n",
    "        [0, 1, 1, 1, 0, 0, 0, 1, 0, 0],\n",
    "        [0, 0, 0, 1, 0, 0, 0, 1, 0, 0],\n",
    "        [0, 0, 0, 1, 0, 1, 1, 1, 0, 0],\n",
    "        [0, 1, 0, 0, 0, 0, 0, 1, 0, 0],\n",
    "        [0, 1, 1, 1, 1, 1, 0, 1, 0, 0],\n",
    "        [0, 0, 0, 0, 0, 0, 0, 1, 0, 0],\n",
    "        [0, 0, 1, 1, 1, 0, 0, 0, 0, 0],\n",
    "        [0, 0, 0, 0, 0, 1, 1, 1, 0, 0],\n",
    "        [0, 0, 0, 0, 0, 0, 0, 0, 0, 0],\n",
    "    ])\n",
    "\n",
    "    return grid\n",
    "\n",
    "grid = create_grid()"
   ]
  },
  {
   "cell_type": "markdown",
   "metadata": {},
   "source": [
    "The cost of moving to a specific cell is represented by the cost array. In a uniform world, you could consider that moving to a neighboring cell always has a cost of one. Or, you could assign higher costs to cells that have higher risk of collision, for example."
   ]
  },
  {
   "cell_type": "code",
   "execution_count": 3,
   "metadata": {},
   "outputs": [],
   "source": [
    "# costs = np.ones(grid.shape) # uniform cost\n",
    "# print(costs)"
   ]
  },
  {
   "cell_type": "code",
   "execution_count": 4,
   "metadata": {},
   "outputs": [],
   "source": [
    "def create_costs():\n",
    "    costs = np.array([\n",
    "        [1, 1, 1, 1, 1, 1, 1, 1, 1, 1],\n",
    "        [1, 1, 1, 1, 1, 1, 1, 1, 1, 1],\n",
    "        [1, 1, 1, 1, 1, 1, 1, 1, 1, 1],\n",
    "        [1, 1, 1, 1, 1, 1, 1, 1, 1, 1],\n",
    "        [1, 1, 1, 1, 1, 1, 1, 1, 1, 1],\n",
    "        [1, 1, 1, 1, 1, 1, 1, 1, 1, 1],\n",
    "        [1, 1, 1, 1, 1, 1, 1, 1, 1, 1],\n",
    "        [1, 1, 1, 1, 1, 1, 1, 1, 1, 1],\n",
    "        [1, 1, 1, 1, 1, 1, 1, 1, 1, 1],\n",
    "        [1, 1, 1, 1, 1, 1, 1, 1, 1, 1],\n",
    "    ])\n",
    "    return costs\n",
    "\n",
    "costs = create_costs()"
   ]
  },
  {
   "cell_type": "markdown",
   "metadata": {},
   "source": [
    "The function below will allow us to visualize the environment."
   ]
  },
  {
   "cell_type": "code",
   "execution_count": 5,
   "metadata": {},
   "outputs": [],
   "source": [
    "def plot_grid(grid, path=None):\n",
    "    \"\"\"\n",
    "    Plots the grid with optional path overlay.\n",
    "    Args:\n",
    "    - grid (2D array): The environment.\n",
    "    - path (list of tuples): The path to overlay (optional).\n",
    "    \"\"\"\n",
    "    plt.figure(figsize=(5, 5))\n",
    "    plt.imshow(grid, cmap=\"Greys\", origin=\"upper\")\n",
    "\n",
    "    # Anootate costs\n",
    "    rows, cols = grid.shape\n",
    "    for i in range(rows):\n",
    "        for j in range(cols):\n",
    "            if grid[i][j] == 0:\n",
    "                plt.text(j, i, f'{costs[i][j]}', ha='center', va='center', color=('lightgray'), fontsize=10)\n",
    "\n",
    "    if path:\n",
    "        i = []\n",
    "        j = []\n",
    "        for (x, y) in path:\n",
    "            plt.scatter(y, x, color=\"red\")\n",
    "            i.append(x)\n",
    "            j.append(y)\n",
    "        plt.plot(j,i, 'r')\n",
    "    plt.title(\"Map of the Environment\")\n",
    "    # plt.grid(True)\n",
    "    plt.show()"
   ]
  },
  {
   "cell_type": "markdown",
   "metadata": {},
   "source": [
    "Let's create and visualize the map of our environment."
   ]
  },
  {
   "cell_type": "code",
   "execution_count": 6,
   "metadata": {},
   "outputs": [
    {
     "data": {
      "image/png": "[encoded data removed]",
      "text/plain": [
       "<Figure size 500x500 with 1 Axes>"
      ]
     },
     "metadata": {},
     "output_type": "display_data"
    }
   ],
   "source": [
    "grid = create_grid()\n",
    "plot_grid(grid)"
   ]
  },
  {
   "cell_type": "markdown",
   "metadata": {},
   "source": [
    "### 2. Dijkstra's Algorithm\n",
    "\n",
    "Dijkstra's Algorithm operates on graphs and finds the shortest path from a **start node** to a **goal node**. In a grid environment, **each cell is treated as a node**, and edges connect neighboring cells. \n",
    "\n",
    "### Algorithm Steps:\n",
    "1. Initialize the start node with a distance of 0 and all other nodes with infinity.\n",
    "2. Use a priority queue to explore nodes with the smallest known distance.\n",
    "3. For each node, update the distances to its neighbors if a shorter path is found.\n",
    "4. Stop when the goal node is reached or all reachable nodes have been explored.\n",
    "5. Reconstruct the path from the goal to the start using parent pointers.\n",
    "\n",
    "We'll now implement the algorithm step-by-step. "
   ]
  },
  {
   "cell_type": "markdown",
   "metadata": {},
   "source": [
    "The function below implements Dijkstra's algorithm for a grid-based environment. It returns the lowest-cost (shortest) path from start to goal as a list of tuples that represent the coordinates of each cell."
   ]
  },
  {
   "cell_type": "code",
   "execution_count": 7,
   "metadata": {},
   "outputs": [],
   "source": [
    "def dijkstra(grid, costs, start, goal):\n",
    "    \"\"\"\n",
    "    Implements Dijkstra's Algorithm for a grid-based environment.\n",
    "    Args:\n",
    "    - grid (2D array): The environment grid.\n",
    "    - costs (2D array): The cost of moving through each cell.\n",
    "    - start (tuple): The start node (row, col).\n",
    "    - goal (tuple): The goal node (row, col).\n",
    "\n",
    "    Returns:\n",
    "    - path (list of tuples): The shortest path from start to goal.\n",
    "    \"\"\"\n",
    "    rows, cols = grid.shape\n",
    "    visited = set()\n",
    "    distances = {start: 0}  # Distance to the start node is 0\n",
    "    parents = {start: None}  # A parent is the node that preceeds the current one: used to reconstruct the path\n",
    "\n",
    "    priority_queue = []  # Priority queue ensures that nodes are processed in order of increasing distance\n",
    "    heapq.heappush(priority_queue, (0, start))  # Initializes queue with the start node and distance to start\n",
    "\n",
    "    directions = [(0, 1), (1, 0), (0, -1), (-1, 0)]  # Right, Down, Left, Up\n",
    "\n",
    "    while priority_queue:\n",
    "        current_distance, current_node = heapq.heappop(priority_queue)\n",
    "\n",
    "        #  If a node has already been visited, it means the shortest distance to that node has been determined.\n",
    "        if current_node in visited:\n",
    "            continue \n",
    "        visited.add(current_node)\n",
    "\n",
    "        # If the current node is the goal node, then the path has been found.\n",
    "        if current_node == goal:\n",
    "            break\n",
    "\n",
    "        # Gets the coordinates of each neighboring cell\n",
    "        for direction in directions:\n",
    "            neighbor = (current_node[0] + direction[0], current_node[1] + direction[1])\n",
    "\n",
    "            # Can only move within the boundaries of the world, and if there's no obstacle\n",
    "            if (0 <= neighbor[0] < rows and 0 <= neighbor[1] < cols and grid[neighbor] == 0):\n",
    "                distance = current_distance + costs[neighbor]  # Use cost from the `costs` array\n",
    "\n",
    "                # Updates the shortest known distance to a neighboring node and prepares it for further exploration\n",
    "                if neighbor not in distances or distance < distances[neighbor]:\n",
    "                    distances[neighbor] = distance  # Updates the shortest known distance to the neighbor\n",
    "                    parents[neighbor] = current_node # Makes the current node be the parent of the neighbor to reconstruct the shortest path\n",
    "                    heapq.heappush(priority_queue, (distance, neighbor))  # Adds the neighbor to the priority queue with its updated distance as the priority\n",
    "\n",
    "    # Reconstruct path from the goal to the start\n",
    "    path = []\n",
    "    node = goal\n",
    "    while node is not None:\n",
    "        if node not in parents:\n",
    "            print(f\"Error: Node {node} has no parent. Path reconstruction failed.\")\n",
    "            return []\n",
    "        path.append(node)\n",
    "        node = parents[node]  # Gets the parent of the node\n",
    "    path.reverse()  # Reverse the path to make it from start to the goal node\n",
    "    return path"
   ]
  },
  {
   "cell_type": "markdown",
   "metadata": {},
   "source": [
    "### 3. Execute the Algorithm\n",
    "We will now run Dijkstra's Algorithm on the created grid to find the shortest path from the start to the goal cells.\n",
    "In this example, the start cell is the top-left corner (0, 0) and the goal cell is at coordinates (0, 9).\n"
   ]
  },
  {
   "cell_type": "code",
   "execution_count": 8,
   "metadata": {},
   "outputs": [
    {
     "name": "stdout",
     "output_type": "stream",
     "text": [
      "Shortest Path: [(0, 0), (0, 1), (0, 2), (0, 3), (0, 4), (1, 4), (2, 4), (3, 4), (4, 4), (4, 5), (4, 6), (5, 6), (6, 6), (7, 6), (7, 7), (7, 8), (6, 8), (5, 8), (4, 8), (3, 8), (2, 8), (1, 8), (0, 8), (0, 9)]\n"
     ]
    },
    {
     "data": {
      "image/png": "[encoded data removed]",
      "text/plain": [
       "<Figure size 500x500 with 1 Axes>"
      ]
     },
     "metadata": {},
     "output_type": "display_data"
    }
   ],
   "source": [
    "start =  (0, 0)\n",
    "goal = (0, 9)\n",
    "\n",
    "path = dijkstra(grid, costs, start, goal)\n",
    "print(\"Shortest Path:\", path)\n",
    "\n",
    "# Visualize the Path\n",
    "plot_grid(grid, path=path)"
   ]
  },
  {
   "cell_type": "markdown",
   "metadata": {},
   "source": [
    "The resulting path is one of least cost from start to goal. By changing the cost of some cells and running Dijkstra's algorithm with no other change, the optimal path can be different. \n",
    "\n",
    "Below, we change the costs of a few cells in column 1 and run the algorithm again. Observe that the resulting path is different than the one above."
   ]
  },
  {
   "cell_type": "code",
   "execution_count": 9,
   "metadata": {},
   "outputs": [
    {
     "name": "stdout",
     "output_type": "stream",
     "text": [
      "Shortest Path: [(0, 0), (1, 0), (2, 0), (3, 0), (4, 0), (5, 0), (6, 0), (7, 0), (7, 1), (8, 1), (8, 2), (8, 3), (8, 4), (9, 4), (9, 5), (9, 6), (9, 7), (9, 8), (8, 8), (7, 8), (6, 8), (5, 8), (4, 8), (3, 8), (2, 8), (1, 8), (0, 8), (0, 9)]\n"
     ]
    },
    {
     "data": {
      "image/png": "[encoded data removed]",
      "text/plain": [
       "<Figure size 500x500 with 1 Axes>"
      ]
     },
     "metadata": {},
     "output_type": "display_data"
    }
   ],
   "source": [
    "def create_costs():\n",
    "    costs = np.array([\n",
    "        [1, 8, 1, 1, 1, 1, 1, 1, 1, 1],\n",
    "        [1, 8, 1, 1, 1, 1, 1, 1, 1, 1],\n",
    "        [1, 8, 1, 1, 1, 1, 1, 1, 1, 1],\n",
    "        [1, 8, 1, 1, 1, 1, 1, 1, 1, 1],\n",
    "        [1, 8, 1, 1, 1, 1, 1, 1, 1, 1],\n",
    "        [1, 8, 1, 1, 1, 1, 1, 1, 1, 1],\n",
    "        [1, 8, 1, 1, 1, 1, 1, 1, 1, 1],\n",
    "        [1, 1, 1, 1, 1, 1, 1, 1, 1, 1],\n",
    "        [1, 1, 1, 1, 1, 1, 1, 1, 1, 1],\n",
    "        [1, 1, 1, 1, 1, 1, 1, 1, 1, 1],\n",
    "    ])\n",
    "    return costs\n",
    "\n",
    "costs = create_costs()\n",
    "\n",
    "path = dijkstra(grid, costs, start, goal)\n",
    "print(\"Shortest Path:\", path)\n",
    "\n",
    "# Visualize the Path\n",
    "plot_grid(grid, path=path)"
   ]
  },
  {
   "cell_type": "markdown",
   "metadata": {},
   "source": [
    "### 4. Conclusion\n",
    "\n",
    "From the results above, we can conclude that Dijkstra's algorithm successfully found the shortest path from the start to the goal, while avoiding obstacles. In fact, the path is the least-cost route.\n",
    "\n",
    "Important observations:\n",
    "- Dijkstra's algorithm explores all reachable nodes and guarantees the least-cost path.\n",
    "- The algorithm is computationally expensive for large maps or high-resolution grids.\n",
    "\n",
    "As future work, explore the A* Algorithm, which adds heuristics to Dijkstra's to improve computational efficiency."
   ]
  },
  {
   "cell_type": "markdown",
   "metadata": {},
   "source": [
    "##### Back to the [main page](README.md)."
   ]
  }
 ],
 "metadata": {
  "kernelspec": {
   "display_name": "Python 3",
   "language": "python",
   "name": "python3"
  },
  "language_info": {
   "codemirror_mode": {
    "name": "ipython",
    "version": 3
   },
   "file_extension": ".py",
   "mimetype": "text/x-python",
   "name": "python",
   "nbconvert_exporter": "python",
   "pygments_lexer": "ipython3",
   "version": "3.10.5"
  }
 },
 "nbformat": 4,
 "nbformat_minor": 2
}
