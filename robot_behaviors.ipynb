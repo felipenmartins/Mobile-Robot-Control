{
 "cells": [
  {
   "cell_type": "markdown",
   "metadata": {},
   "source": [
    "# Mobile Robot Control\n",
    "\n",
    "### Implementation of Robot Behaviors\n"
   ]
  },
  {
   "cell_type": "markdown",
   "metadata": {},
   "source": [
    "#### Wall-following Behavior\n",
    "This function implements a wall-following behavior with constant linear speed.\n"
   ]
  },
  {
   "cell_type": "code",
   "execution_count": 9,
   "metadata": {},
   "outputs": [],
   "source": [
    "def follow_wall_to_left(kd, d_l, d_desired):\n",
    "    \"\"\" Follows the wall to the left of the robot.\n",
    "    Input Parameters: \n",
    "        kd = controller gain;\n",
    "        d_desired = desired robot distance to the wall;\n",
    "        d_l = measured distance to the left wall;\n",
    "    Returns:\n",
    "        u_ref = reference linear speed command;\n",
    "        w_ref = reference angluar speed command.\n",
    "    \"\"\"\n",
    "    u_ref = 0.5     # [m/s] some constant linear speed\n",
    "    w_ref = kd*(d_l - d_desired)\n",
    "    return u_ref, w_ref"
   ]
  },
  {
   "cell_type": "markdown",
   "metadata": {},
   "source": [
    "Assume you want to follow the wall at 15cm, and the robot is actually at a distance of 18cm. When the function is called, it will return the desired speed values that the robot should have to get closer to the wall.\n"
   ]
  },
  {
   "cell_type": "code",
   "execution_count": 10,
   "metadata": {},
   "outputs": [
    {
     "name": "stdout",
     "output_type": "stream",
     "text": [
      "Desired linear speed  = 0.5m/s\n",
      "Desired angular speed = 0.03rad/s\n"
     ]
    }
   ],
   "source": [
    "d_desired = 0.15    # [m]\n",
    "d_l = 0.18          # [m] - this value must be calculated based on sensor readings\n",
    "\n",
    "# Controller gain - define how the reaction of the robot will be:\n",
    "# higher controller gain will result in more faster reaction, but it can cause oscillations\n",
    "kd = 1\n",
    "\n",
    "u_ref, w_ref = follow_wall_to_left(kd, d_l, d_desired)\n",
    "print(f\"Desired linear speed  = {u_ref}m/s\")\n",
    "print(f\"Desired angular speed = {w_ref}rad/s\")"
   ]
  },
  {
   "cell_type": "markdown",
   "metadata": {},
   "source": [
    "#### Wall-following Behavior with Obstacle Detection\n",
    "This function implements a wall-following behavior with linear speed that depends on the distance to obstacle.\n"
   ]
  },
  {
   "cell_type": "code",
   "execution_count": 11,
   "metadata": {},
   "outputs": [],
   "source": [
    "def follow_wall_to_left_obst(kd, d_l, d_desired, d):\n",
    "    \"\"\" Follows the wall to the left of the robot.\n",
    "    Input Parameters: \n",
    "        kd = controller gain;\n",
    "        d_desired = desired robot distance to the wall;\n",
    "        d_l = measured distance to the left wall;\n",
    "        d = measured distance to the obstacle (front sensor);\n",
    "    Returns:\n",
    "        u_ref = reference linear speed command;\n",
    "        w_ref = reference angluar speed command.\n",
    "    \"\"\"\n",
    "    # Variables:\n",
    "    d_min = 0.05     # [m] minimum admissible distance to the obstacle; \n",
    "    d_max = 0.25     # [m] maximum measurable distance by the front sensor;\n",
    "    u_max = 0.5      # [m/s] linear speed for d = d_max\n",
    "\n",
    "    u_ref = u_max*d/d_max if d >= d_min else 0\n",
    "    w_ref = kd*(d_l - d_desired)\n",
    "    return u_ref, w_ref"
   ]
  },
  {
   "cell_type": "markdown",
   "metadata": {},
   "source": [
    "Assume you want to follow the wall at 15cm, and the robot is actually at a distance of 18cm. When the function is called, it will return the desired speed values that the robot should have to get closer to the wall.\n",
    "\n",
    "Test the function with different values of d.\n"
   ]
  },
  {
   "cell_type": "code",
   "execution_count": 12,
   "metadata": {},
   "outputs": [
    {
     "name": "stdout",
     "output_type": "stream",
     "text": [
      "Desired linear speed  = 1.0m/s\n",
      "Desired angular speed = 0.03rad/s\n"
     ]
    }
   ],
   "source": [
    "d = 0.5\n",
    "d_desired = 0.15    # [m]\n",
    "d_l = 0.18          # [m] - this value must be calculated based on sensor readings\n",
    "\n",
    "# Controller gain - define how the reaction of the robot will be:\n",
    "# higher controller gain will result in more faster reaction, but it can cause oscillations\n",
    "kd = 1\n",
    "\n",
    "u_ref, w_ref = follow_wall_to_left_obst(kd, d_l, d_desired, d)\n",
    "print(f\"Desired linear speed  = {u_ref}m/s\")\n",
    "print(f\"Desired angular speed = {w_ref}rad/s\")"
   ]
  },
  {
   "cell_type": "markdown",
   "metadata": {},
   "source": [
    "The above implementations of wall-following behavior will likely cause the robot to perform poorly. To make sure that the robot will follow the wall, it is a good idea to include another term that tries to kwwp the robot parallel to the wall. For that, we assume that the robot has two sensors that measure its distance to the left wall, one in the front and another in the back of the robot. The sensors are placed on a distance _s_ from each other."
   ]
  },
  {
   "cell_type": "code",
   "execution_count": 13,
   "metadata": {},
   "outputs": [],
   "source": [
    "def improved_follow_wall_to_left_obst(kd, kd2, d_fl, d_rl, d_desired, d):\n",
    "    \"\"\" Follows the wall to the left of the robot.\n",
    "    Input Parameters: \n",
    "        kd = controller gain for controlling the distance to the wall;\n",
    "        kd2 = controller gain for keeping the robot parallel to the wall;\n",
    "        d_desired = desired robot distance to the wall;\n",
    "        d_fl = distance to the left wall measured by the front sensor;\n",
    "        d_rl = distance to the left wall measured by the rear sensor;\n",
    "        d = measured distance to the obstacle (front sensor);\n",
    "    Returns:\n",
    "        u_ref = reference linear speed command;\n",
    "        w_ref = reference angluar speed command.\n",
    "    \"\"\"\n",
    "    # Variables:\n",
    "    d_min = 0.05     # [m] minimum admissible distance to the obstacle; \n",
    "    d_max = 0.25     # [m] maximum measurable distance by the front sensor;\n",
    "    u_max = 0.5      # [m/s] linear speed for d = d_max\n",
    "\n",
    "    u_ref = u_max * d/d_max if d >= d_min else 0\n",
    "    d_l = (d_fl + d_rl)/2\n",
    "    w_ref = kd*(d_l - d_desired) + kd2*(d_fl - d_rl)\n",
    "    return u_ref, w_ref"
   ]
  },
  {
   "cell_type": "markdown",
   "metadata": {},
   "source": [
    "Test it with different values for _d_fl_ and _d_rl_."
   ]
  },
  {
   "cell_type": "code",
   "execution_count": 14,
   "metadata": {},
   "outputs": [
    {
     "name": "stdout",
     "output_type": "stream",
     "text": [
      "Desired linear speed  = 1.0m/s\n",
      "Desired angular speed = 0.01999999999999999rad/s\n"
     ]
    }
   ],
   "source": [
    "d = 0.5\n",
    "d_desired = 0.15    # [m]\n",
    "d_fl = 0.18         # [m]\n",
    "d_rl = 0.20         # [m]\n",
    "\n",
    "\n",
    "# Controller gain - define how the reaction of the robot will be:\n",
    "# higher controller gain will result in more faster reaction, but it can cause oscillations\n",
    "kd = 1\n",
    "kd2 = 1\n",
    "\n",
    "u_ref, w_ref = improved_follow_wall_to_left_obst(kd, kd2, d_fl, d_rl, d_desired, d)\n",
    "print(f\"Desired linear speed  = {u_ref}m/s\")\n",
    "print(f\"Desired angular speed = {w_ref}rad/s\")"
   ]
  },
  {
   "cell_type": "code",
   "execution_count": null,
   "metadata": {},
   "outputs": [],
   "source": []
  }
 ],
 "metadata": {
  "kernelspec": {
   "display_name": "Python 3",
   "language": "python",
   "name": "python3"
  },
  "language_info": {
   "codemirror_mode": {
    "name": "ipython",
    "version": 3
   },
   "file_extension": ".py",
   "mimetype": "text/x-python",
   "name": "python",
   "nbconvert_exporter": "python",
   "pygments_lexer": "ipython3",
   "version": "3.10.5"
  },
  "orig_nbformat": 4
 },
 "nbformat": 4,
 "nbformat_minor": 2
}
